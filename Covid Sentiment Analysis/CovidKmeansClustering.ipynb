{
 "cells": [
  {
   "cell_type": "code",
   "execution_count": 80,
   "metadata": {},
   "outputs": [],
   "source": [
    "import numpy as np\n",
    "import pandas as pd\n",
    "from matplotlib import pyplot as plt\n",
    "from sklearn.datasets.samples_generator import make_blobs\n",
    "from sklearn.cluster import KMeans"
   ]
  },
  {
   "cell_type": "code",
   "execution_count": 81,
   "metadata": {},
   "outputs": [
    {
     "data": {
      "text/html": [
       "<div>\n",
       "<style scoped>\n",
       "    .dataframe tbody tr th:only-of-type {\n",
       "        vertical-align: middle;\n",
       "    }\n",
       "\n",
       "    .dataframe tbody tr th {\n",
       "        vertical-align: top;\n",
       "    }\n",
       "\n",
       "    .dataframe thead th {\n",
       "        text-align: right;\n",
       "    }\n",
       "</style>\n",
       "<table border=\"1\" class=\"dataframe\">\n",
       "  <thead>\n",
       "    <tr style=\"text-align: right;\">\n",
       "      <th></th>\n",
       "      <th>Unnamed: 0</th>\n",
       "      <th>label</th>\n",
       "    </tr>\n",
       "  </thead>\n",
       "  <tbody>\n",
       "    <tr>\n",
       "      <td>count</td>\n",
       "      <td>1366.000000</td>\n",
       "      <td>1366.000000</td>\n",
       "    </tr>\n",
       "    <tr>\n",
       "      <td>mean</td>\n",
       "      <td>682.500000</td>\n",
       "      <td>0.110347</td>\n",
       "    </tr>\n",
       "    <tr>\n",
       "      <td>std</td>\n",
       "      <td>394.474545</td>\n",
       "      <td>0.252497</td>\n",
       "    </tr>\n",
       "    <tr>\n",
       "      <td>min</td>\n",
       "      <td>0.000000</td>\n",
       "      <td>-1.000000</td>\n",
       "    </tr>\n",
       "    <tr>\n",
       "      <td>25%</td>\n",
       "      <td>341.250000</td>\n",
       "      <td>0.000000</td>\n",
       "    </tr>\n",
       "    <tr>\n",
       "      <td>50%</td>\n",
       "      <td>682.500000</td>\n",
       "      <td>0.041667</td>\n",
       "    </tr>\n",
       "    <tr>\n",
       "      <td>75%</td>\n",
       "      <td>1023.750000</td>\n",
       "      <td>0.243021</td>\n",
       "    </tr>\n",
       "    <tr>\n",
       "      <td>max</td>\n",
       "      <td>1365.000000</td>\n",
       "      <td>1.000000</td>\n",
       "    </tr>\n",
       "  </tbody>\n",
       "</table>\n",
       "</div>"
      ],
      "text/plain": [
       "        Unnamed: 0        label\n",
       "count  1366.000000  1366.000000\n",
       "mean    682.500000     0.110347\n",
       "std     394.474545     0.252497\n",
       "min       0.000000    -1.000000\n",
       "25%     341.250000     0.000000\n",
       "50%     682.500000     0.041667\n",
       "75%    1023.750000     0.243021\n",
       "max    1365.000000     1.000000"
      ]
     },
     "execution_count": 81,
     "metadata": {},
     "output_type": "execute_result"
    }
   ],
   "source": [
    "import pandas as pd\n",
    "\n",
    "df = pd.read_csv('ct_coord_label.csv')\n",
    "\n",
    "df.describe()"
   ]
  },
  {
   "cell_type": "code",
   "execution_count": 82,
   "metadata": {},
   "outputs": [
    {
     "name": "stdout",
     "output_type": "stream",
     "text": [
      "Index(['Unnamed: 0', 'coordinates', 'label'], dtype='object')\n",
      "0        -73.47935661,45.6677507\n",
      "1        -0.13608912,51.50413561\n",
      "2              -0.33986,51.54927\n",
      "3               -117.228,33.9431\n",
      "4            151.20797,-33.86751\n",
      "                  ...           \n",
      "1361    -95.35900225,29.74660701\n",
      "1362      120.9181056,13.8385274\n",
      "1363            -74.1545,40.8679\n",
      "1364            -71.3833,41.5167\n",
      "1365    -93.62040577,41.58521648\n",
      "Name: coordinates, Length: 1366, dtype: object\n"
     ]
    }
   ],
   "source": [
    "print(df.columns)\n",
    "print(df['coordinates'])"
   ]
  },
  {
   "cell_type": "code",
   "execution_count": 83,
   "metadata": {},
   "outputs": [
    {
     "name": "stdout",
     "output_type": "stream",
     "text": [
      "Index(['coordinates', 'label'], dtype='object')\n"
     ]
    }
   ],
   "source": [
    "df = df.loc[:, ~df.columns.str.contains('^Unnamed')]\n",
    "print(df.columns)\n",
    "# df2_negative = df[['coordinates','label']][df['label']==0]\n",
    "# df2_positive = df[['coordinates','label']][df['label']==1]\n",
    "df[['x','y']] = df['coordinates'].str.split(\",\",expand=True,)\n",
    "\n",
    "# df2_positive[['x','y']] = df2_positive['coordinates'].str.split(\",\",expand=True,)"
   ]
  },
  {
   "cell_type": "code",
   "execution_count": 84,
   "metadata": {},
   "outputs": [],
   "source": [
    "# df2_negative = df2_negative[['x','y']]\n",
    "# df2_positive = df2_positive[['x','y']]\n",
    "# print(df2_positive.columns)\n",
    "# print(df2_negative.columns)\n",
    "df = df.drop(columns=['coordinates'])"
   ]
  },
  {
   "cell_type": "code",
   "execution_count": 85,
   "metadata": {},
   "outputs": [
    {
     "data": {
      "text/plain": [
       "KMeans(algorithm='auto', copy_x=True, init='k-means++', max_iter=300,\n",
       "       n_clusters=3, n_init=10, n_jobs=None, precompute_distances='auto',\n",
       "       random_state=None, tol=0.0001, verbose=0)"
      ]
     },
     "execution_count": 85,
     "metadata": {},
     "output_type": "execute_result"
    }
   ],
   "source": [
    "Kmean = KMeans(n_clusters=3)\n",
    "Kmean.fit(df)\n",
    "\n",
    "# Kmean2 = KMeans(n_clusters=3)\n",
    "# Kmean2.fit(df2_positive)"
   ]
  },
  {
   "cell_type": "code",
   "execution_count": 143,
   "metadata": {},
   "outputs": [
    {
     "data": {
      "image/png": "[encoded data removed]",
      "text/plain": [
       "<Figure size 432x288 with 1 Axes>"
      ]
     },
     "metadata": {},
     "output_type": "display_data"
    }
   ],
   "source": [
    "plt.clf()\n",
    "plt.scatter(df['x'], df['y'], s =50, c='b')\n",
    "for data in Kmean.cluster_centers_:\n",
    "    plt.scatter(data[1],data[2], s=200, c='g', marker='s')\n",
    "plt.show()"
   ]
  },
  {
   "cell_type": "code",
   "execution_count": 142,
   "metadata": {},
   "outputs": [
    {
     "name": "stdout",
     "output_type": "stream",
     "text": [
      "After clustering the location coordinates are:\n",
      " 6.283840270752435,33.323344248883494\n",
      "-88.13399591838116,37.57657938481723\n",
      "105.08146076132968,7.038626470904255\n"
     ]
    }
   ],
   "source": [
    "print(\"After clustering the location coordinates are:\\n \" + str(Kmean.cluster_centers_[0][1])+\",\"+str(Kmean.cluster_centers_[0][2]))\n",
    "print(str(Kmean.cluster_centers_[1][1])+\",\"+str(Kmean.cluster_centers_[1][2]))\n",
    "print(str(Kmean.cluster_centers_[2][1])+\",\"+str(Kmean.cluster_centers_[2][2]))\n",
    "\n"
   ]
  },
  {
   "cell_type": "code",
   "execution_count": 102,
   "metadata": {},
   "outputs": [],
   "source": [
    "import numpy as np"
   ]
  },
  {
   "cell_type": "code",
   "execution_count": 112,
   "metadata": {},
   "outputs": [],
   "source": [
    "class K_Means:\n",
    "    def __init__(self, k=2, tol=0.001, max_iter=300):\n",
    "        self.k = k\n",
    "        self.tol = tol\n",
    "        self.max_iter = max_iter\n",
    "\n",
    "    def fit(self,data):\n",
    "\n",
    "        self.centroids = {}\n",
    "\n",
    "        for i in range(self.k):\n",
    "            self.centroids[i] = data[i]\n",
    "\n",
    "        for i in range(self.max_iter):\n",
    "            self.classifications = {}\n",
    "\n",
    "            for i in range(self.k):\n",
    "                self.classifications[i] = []\n",
    "\n",
    "            for featureset in data:\n",
    "                distances = [np.linalg.norm(featureset-self.centroids[centroid]) for centroid in self.centroids]\n",
    "                classification = distances.index(min(distances))\n",
    "                self.classifications[classification].append(featureset)\n",
    "\n",
    "            prev_centroids = dict(self.centroids)\n",
    "\n",
    "            for classification in self.classifications:\n",
    "                self.centroids[classification] = np.average(self.classifications[classification],axis=0)\n",
    "\n",
    "            optimized = True\n",
    "\n",
    "            for c in self.centroids:\n",
    "                original_centroid = prev_centroids[c]\n",
    "                current_centroid = self.centroids[c]\n",
    "                if np.sum((current_centroid-original_centroid)/original_centroid*100.0) > self.tol:\n",
    "                    print(np.sum((current_centroid-original_centroid)/original_centroid*100.0))\n",
    "                    optimized = False\n",
    "\n",
    "            if optimized:\n",
    "                break\n",
    "\n",
    "    def predict(self,data):\n",
    "        distances = [np.linalg.norm(data-self.centroids[centroid]) for centroid in self.centroids]\n",
    "        classification = distances.index(min(distances))\n",
    "        return classification"
   ]
  },
  {
   "cell_type": "code",
   "execution_count": 114,
   "metadata": {},
   "outputs": [
    {
     "data": {
      "text/plain": [
       "label    float64\n",
       "x         object\n",
       "y         object\n",
       "dtype: object"
      ]
     },
     "execution_count": 114,
     "metadata": {},
     "output_type": "execute_result"
    }
   ],
   "source": [
    "from matplotlib import style\n",
    "style.use('ggplot')\n",
    "\n",
    "df.dtypes"
   ]
  },
  {
   "cell_type": "code",
   "execution_count": 115,
   "metadata": {},
   "outputs": [],
   "source": [
    "df['x'] = df['x'].astype(float)\n",
    "df['y'] = df['y'].astype(float)"
   ]
  },
  {
   "cell_type": "code",
   "execution_count": 116,
   "metadata": {},
   "outputs": [],
   "source": [
    "np_df = df.to_numpy()\n"
   ]
  },
  {
   "cell_type": "code",
   "execution_count": 128,
   "metadata": {},
   "outputs": [
    {
     "name": "stdout",
     "output_type": "stream",
     "text": [
      "971.7488729341526\n"
     ]
    }
   ],
   "source": [
    "clf = K_Means(k=3)\n",
    "clf.fit(np_df)"
   ]
  },
  {
   "cell_type": "code",
   "execution_count": 129,
   "metadata": {},
   "outputs": [
    {
     "name": "stdout",
     "output_type": "stream",
     "text": [
      "[[-4.86666667e-01 -7.34793566e+01  4.56677507e+01]\n",
      " [ 3.18181818e-02 -1.36089120e-01  5.15041356e+01]\n",
      " [ 1.78571429e-02 -3.39860000e-01  5.15492700e+01]\n",
      " ...\n",
      " [ 2.50000000e-01 -7.41545000e+01  4.08679000e+01]\n",
      " [ 0.00000000e+00 -7.13833000e+01  4.15167000e+01]\n",
      " [ 1.99166667e-01 -9.36204058e+01  4.15852165e+01]]\n"
     ]
    }
   ],
   "source": [
    "print(np_df)"
   ]
  },
  {
   "cell_type": "code",
   "execution_count": 147,
   "metadata": {},
   "outputs": [
    {
     "name": "stdout",
     "output_type": "stream",
     "text": [
      "The clusters are:\n",
      "-88.07538666323342 , 37.49764377501956\n",
      "65.68400605752973 , 5.886464304583339\n",
      "1.2076481998859323 , 49.80074005346006\n"
     ]
    },
    {
     "data": {
      "image/png": "[encoded data removed]",
      "text/plain": [
       "<Figure size 432x288 with 1 Axes>"
      ]
     },
     "metadata": {},
     "output_type": "display_data"
    }
   ],
   "source": [
    "plt.clf()\n",
    "print(\"The clusters are:\")\n",
    "for centroid in clf.centroids:\n",
    "    plt.scatter(clf.centroids[centroid][1], clf.centroids[centroid][2],\n",
    "                marker=\"o\", color=\"k\", s=150, linewidths=5)\n",
    "    print(str(clf.centroids[centroid][1])+\" , \"+str(clf.centroids[centroid][2]))"
   ]
  },
  {
   "cell_type": "code",
   "execution_count": null,
   "metadata": {},
   "outputs": [],
   "source": []
  }
 ],
 "metadata": {
  "kernelspec": {
   "display_name": "Python 3",
   "language": "python",
   "name": "python3"
  },
  "language_info": {
   "codemirror_mode": {
    "name": "ipython",
    "version": 3
   },
   "file_extension": ".py",
   "mimetype": "text/x-python",
   "name": "python",
   "nbconvert_exporter": "python",
   "pygments_lexer": "ipython3",
   "version": "3.7.4"
  }
 },
 "nbformat": 4,
 "nbformat_minor": 2
}
