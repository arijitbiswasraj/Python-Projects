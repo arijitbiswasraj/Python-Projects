{
 "cells": [
  {
   "cell_type": "code",
   "execution_count": null,
   "metadata": {},
   "outputs": [],
   "source": [
    "import csv\n",
    "ct1 = open('ct1_tweet_id.txt','w')\n",
    "with open('ct1.csv', mode='r') as csv_file:\n",
    "    csv_reader = csv.reader(csv_file)\n",
    "    line_count = 0\n",
    "    for row in csv_reader:\n",
    "        print(row)\n",
    "        line_count += 1\n",
    "        if(row != \"\"):\n",
    "            ct1.write(row[0]+\"\\n\")\n",
    "        if(line_count == 100000):\n",
    "            break;\n",
    "        print(line_count)\n",
    "    #print(f'Processed {line_count} lines.')"
   ]
  },
  {
   "cell_type": "code",
   "execution_count": 6,
   "metadata": {},
   "outputs": [],
   "source": [
    "ct1.close()"
   ]
  },
  {
   "cell_type": "code",
   "execution_count": null,
   "metadata": {},
   "outputs": [],
   "source": [
    "import csv\n",
    "ct2 = open('ct2_tweet_id.txt','w')\n",
    "with open('ct2.csv', mode='r') as csv_file:\n",
    "    csv_reader = csv.reader(csv_file)\n",
    "    line_count = 0\n",
    "    for row in csv_reader:\n",
    "        print(row)\n",
    "        line_count += 1\n",
    "        if(row != \"\"):\n",
    "            ct2.write(row[0]+\"\\n\")\n",
    "        if(line_count == 100000):\n",
    "            break;\n",
    "        print(line_count)\n",
    "    #print(f'Processed {line_count} lines.')\n",
    "ct2.close()"
   ]
  },
  {
   "cell_type": "code",
   "execution_count": null,
   "metadata": {},
   "outputs": [],
   "source": [
    "import csv\n",
    "ct = open('ct_loc_tweet_id.txt','w')\n",
    "with open('ct_loc.csv', mode='r') as csv_file:\n",
    "    csv_reader = csv.reader(csv_file)\n",
    "    line_count = 0\n",
    "    for row in csv_reader:\n",
    "        print(row)\n",
    "        line_count += 1\n",
    "        if(row != \"\"):\n",
    "            ct.write(row[0]+\"\\n\")\n",
    "        if(line_count == 100000):\n",
    "            break;\n",
    "        print(line_count)\n",
    "    #print(f'Processed {line_count} lines.')\n",
    "ct.close()"
   ]
  },
  {
   "cell_type": "code",
   "execution_count": null,
   "metadata": {},
   "outputs": [],
   "source": []
  }
 ],
 "metadata": {
  "kernelspec": {
   "display_name": "Python 3",
   "language": "python",
   "name": "python3"
  },
  "language_info": {
   "codemirror_mode": {
    "name": "ipython",
    "version": 3
   },
   "file_extension": ".py",
   "mimetype": "text/x-python",
   "name": "python",
   "nbconvert_exporter": "python",
   "pygments_lexer": "ipython3",
   "version": "3.7.4"
  }
 },
 "nbformat": 4,
 "nbformat_minor": 2
}
